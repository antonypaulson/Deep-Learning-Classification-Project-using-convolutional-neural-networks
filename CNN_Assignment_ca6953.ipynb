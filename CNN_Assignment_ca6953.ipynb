{
  "nbformat": 4,
  "nbformat_minor": 0,
  "metadata": {
    "colab": {
      "name": "CNN Assignment ca6953.ipynb",
      "version": "0.3.2",
      "provenance": [],
      "collapsed_sections": [],
      "toc_visible": true
    },
    "kernelspec": {
      "name": "python3",
      "display_name": "Python 3"
    },
    "accelerator": "GPU"
  },
  "cells": [
    {
      "metadata": {
        "id": "2XVpPcTaBFHf",
        "colab_type": "code",
        "outputId": "5ee27283-0d3d-4822-8f40-91bb09bbe8d1",
        "colab": {
          "base_uri": "https://localhost:8080/",
          "height": 34
        }
      },
      "cell_type": "code",
      "source": [
        "####This step was used in-order to use google colab. Google drive was used to  \n",
        "####store the dataset in a folder named jpg. An additional folder 17Flowers was\n",
        "####created to load training and valdation data from jpg\n",
        "\n",
        "from google.colab import drive\n",
        "drive.mount('/content/drive')"
      ],
      "execution_count": 72,
      "outputs": [
        {
          "output_type": "stream",
          "text": [
            "Drive already mounted at /content/drive; to attempt to forcibly remount, call drive.mount(\"/content/drive\", force_remount=True).\n"
          ],
          "name": "stdout"
        }
      ]
    },
    {
      "metadata": {
        "id": "_DsmXx6fwJ53",
        "colab_type": "code",
        "colab": {}
      },
      "cell_type": "code",
      "source": [
        "#This section was done in order to preprocess the data and divide it \n",
        "#into training and validation folders\n",
        "\n",
        "#Importing libraries\n",
        "import os\n",
        "import glob\n",
        "import numpy as np\n",
        "from shutil import copy2\n",
        "\n",
        "# setting the input and output path\n",
        "input_path  = \"/content/drive/My Drive/17Flowers/jpg\"\n",
        "output_path = \"/content/drive/My Drive/17Flowers/Dataset/train\"\n",
        "validation_path = \"/content/drive/My Drive/17Flowers/Dataset/test\"\n",
        "\n",
        "#Reading the paths to all images in the jpg folder\n",
        "files = glob.glob(input_path + \"/*.jpg\")\n",
        "files.sort()\n",
        "\n",
        "# Initialising variables to keep track of\n",
        "label = 0\n",
        "i = 0\n",
        "m = 0\n",
        "j = 80\n",
        "k = 0\n",
        "# Creating a list with class names in the same order they are present in data\n",
        "\n",
        "class_names = [\"daffodil\", \"snowdrop\", \"lilyvalley\", \"bluebell\", \"crocus\",\n",
        "\t\t\t   \"iris\", \"tigerlily\", \"tulip\", \"fritillary\", \"sunflower\", \n",
        "\t\t\t   \"daisy\", \"coltsfoot\", \"dandelion\", \"cowslip\", \"buttercup\",\n",
        "\t\t\t   \"windflower\", \"pansy\"]\n",
        "\n",
        "#Creating lists that will contain paths to different classes \n",
        "label_path = []\n",
        "label_v = []\n",
        "for name in class_names:\n",
        "  x = output_path + '/' + name\n",
        "  label_path.append(x)\n",
        "  y = validation_path + '/' + name\n",
        "  label_v.append(y)\n",
        "\n",
        "# looping over the class labels\n",
        "for x in range(len(class_names)):\n",
        "  #Creating directories for training and validation data\n",
        "  for labels in class_names :\n",
        "    os.chdir(output_path)\n",
        "    os.system(\"mkdir \" + class_names[label])\n",
        "    os.chdir(validation_path)\n",
        "    os.system(\"mkdir \" + class_names[label])\n",
        "  \n",
        "  for image in files[m:j]:\n",
        "    #Dividing the data into 80:20 for training and validation\n",
        "    if (k <= 63):\n",
        "      os.chdir(output_path)\n",
        "      copy2(image, label_path[i])\n",
        "    else:\n",
        "      os.chdir(validation_path)\n",
        "      copy2(image, label_v[i])\n",
        "    k+=1  \n",
        "  \n",
        "  label += 1\n",
        "  i +=  1\n",
        "  m += 80\n",
        "  j += 80\n",
        "  k = 0"
      ],
      "execution_count": 0,
      "outputs": []
    },
    {
      "metadata": {
        "id": "pe8UtAI2yBaV",
        "colab_type": "code",
        "colab": {}
      },
      "cell_type": "code",
      "source": [
        "#Importing all required libraries \n",
        "import tensorflow as tf\n",
        "import numpy as np\n",
        "import pandas as pd\n",
        "import matplotlib.pyplot as plt\n",
        "from IPython import display\n",
        "from matplotlib import cm\n",
        "from matplotlib import gridspec\n",
        "from tensorflow.python.data import Dataset\n",
        "from tensorflow import keras\n",
        "from keras.layers import Dense, Activation, Conv2D, MaxPooling2D\n",
        "from __future__ import print_function\n",
        "from keras.models import Sequential\n",
        "from keras.layers import Dense, Conv2D, MaxPooling2D, Dropout, Flatten\n",
        "from keras.utils import to_categorical\n",
        "import keras\n",
        "from keras.utils import to_categorical\n",
        "import os\n",
        "from keras.preprocessing.image import ImageDataGenerator, load_img\n",
        "from random import shuffle"
      ],
      "execution_count": 0,
      "outputs": []
    },
    {
      "metadata": {
        "id": "0BfZhEPoJOuA",
        "colab_type": "code",
        "colab": {}
      },
      "cell_type": "code",
      "source": [
        "#Loading the pretrained VGG16 model\n",
        "\n",
        "from keras.applications import VGG16\n",
        " \n",
        "vgg_conv = VGG16(weights='imagenet',\n",
        "                  include_top=False,\n",
        "                  input_shape=(224, 224, 3))\n",
        "\n",
        "#Extracting the features and setting the directories\n",
        "train_dir = '/content/drive/My Drive/17Flowers/Dataset/train'\n",
        "validation_dir = '/content/drive/My Drive/17Flowers/Dataset/test'\n",
        " \n",
        "#Setting the values of splits\n",
        "nTrain = 1088\n",
        "nVal = 272\n"
      ],
      "execution_count": 0,
      "outputs": []
    },
    {
      "metadata": {
        "id": "sUutrXGID0hx",
        "colab_type": "code",
        "outputId": "54c0e5bf-b8c0-41e6-c567-491e3dc5d454",
        "colab": {
          "base_uri": "https://localhost:8080/",
          "height": 340
        }
      },
      "cell_type": "code",
      "source": [
        "# Freeze the layers except the last 4 layers. \n",
        "for layer in vgg_conv.layers[:-4]:\n",
        "    layer.trainable = False\n",
        "# Check the trainable status of the individual layers\n",
        "for layer in vgg_conv.layers:\n",
        "    print(layer, layer.trainable)\n",
        "    "
      ],
      "execution_count": 84,
      "outputs": [
        {
          "output_type": "stream",
          "text": [
            "<keras.engine.topology.InputLayer object at 0x7fe6035b4940> False\n",
            "<keras.layers.convolutional.Conv2D object at 0x7fe6035b4e10> False\n",
            "<keras.layers.convolutional.Conv2D object at 0x7fe6035b4278> False\n",
            "<keras.layers.pooling.MaxPooling2D object at 0x7fe6035b4d30> False\n",
            "<keras.layers.convolutional.Conv2D object at 0x7fe6034942b0> False\n",
            "<keras.layers.convolutional.Conv2D object at 0x7fe603451710> False\n",
            "<keras.layers.pooling.MaxPooling2D object at 0x7fe603451cf8> False\n",
            "<keras.layers.convolutional.Conv2D object at 0x7fe6038e4ef0> False\n",
            "<keras.layers.convolutional.Conv2D object at 0x7fe6038c2f28> False\n",
            "<keras.layers.convolutional.Conv2D object at 0x7fe6033fa240> False\n",
            "<keras.layers.pooling.MaxPooling2D object at 0x7fe690bded30> False\n",
            "<keras.layers.convolutional.Conv2D object at 0x7fe60828da90> False\n",
            "<keras.layers.convolutional.Conv2D object at 0x7fe6082efd30> False\n",
            "<keras.layers.convolutional.Conv2D object at 0x7fe605388668> False\n",
            "<keras.layers.pooling.MaxPooling2D object at 0x7fe6053790b8> False\n",
            "<keras.layers.convolutional.Conv2D object at 0x7fe6053ab2b0> True\n",
            "<keras.layers.convolutional.Conv2D object at 0x7fe6053e24a8> True\n",
            "<keras.layers.convolutional.Conv2D object at 0x7fe605347f60> True\n",
            "<keras.layers.pooling.MaxPooling2D object at 0x7fe60367b668> True\n"
          ],
          "name": "stdout"
        }
      ]
    },
    {
      "metadata": {
        "id": "PQ50g5Yy_hTv",
        "colab_type": "text"
      },
      "cell_type": "markdown",
      "source": [
        "As it can be seen above 18 layers were present for the VGG16 model. Out of these , the first 14 layers were frozen\n",
        "and only the last 3 convolutional layers and the pooling layer was used for learning transfer "
      ]
    },
    {
      "metadata": {
        "id": "xd10IevwxN8j",
        "colab_type": "code",
        "outputId": "096c8787-2356-4580-a441-a5b09d22bcd0",
        "colab": {
          "base_uri": "https://localhost:8080/",
          "height": 374
        }
      },
      "cell_type": "code",
      "source": [
        "from keras import models\n",
        "from keras import layers\n",
        "from keras import optimizers\n",
        " \n",
        "# Creation of the main model\n",
        "model = models.Sequential()\n",
        " \n",
        "# Add the above vgg convolutional base model\n",
        "model.add(vgg_conv)\n",
        " \n",
        "# Add new layers. A fully connected layer is added after the VGG and a softmax\n",
        "#layer with 17 outputs for 17 classes\n",
        "model.add(layers.Flatten())\n",
        "model.add(layers.Dense(1024, activation='relu'))\n",
        "model.add(layers.Dropout(0.5))\n",
        "model.add(layers.Dense(1024, activation='relu'))\n",
        "model.add(layers.Dropout(0.5))\n",
        "model.add(layers.Dense(17, activation='softmax'))\n",
        " \n",
        "# Show a summary of the model. Check the number of trainable parameters\n",
        "model.summary()"
      ],
      "execution_count": 85,
      "outputs": [
        {
          "output_type": "stream",
          "text": [
            "_________________________________________________________________\n",
            "Layer (type)                 Output Shape              Param #   \n",
            "=================================================================\n",
            "vgg16 (Model)                (None, 7, 7, 512)         14714688  \n",
            "_________________________________________________________________\n",
            "flatten_14 (Flatten)         (None, 25088)             0         \n",
            "_________________________________________________________________\n",
            "dense_37 (Dense)             (None, 1024)              25691136  \n",
            "_________________________________________________________________\n",
            "dropout_24 (Dropout)         (None, 1024)              0         \n",
            "_________________________________________________________________\n",
            "dense_38 (Dense)             (None, 1024)              1049600   \n",
            "_________________________________________________________________\n",
            "dropout_25 (Dropout)         (None, 1024)              0         \n",
            "_________________________________________________________________\n",
            "dense_39 (Dense)             (None, 17)                17425     \n",
            "=================================================================\n",
            "Total params: 41,472,849\n",
            "Trainable params: 33,837,585\n",
            "Non-trainable params: 7,635,264\n",
            "_________________________________________________________________\n"
          ],
          "name": "stdout"
        }
      ]
    },
    {
      "metadata": {
        "id": "uTVI2PvTzcyV",
        "colab_type": "code",
        "outputId": "12ea37d1-bc59-45e5-d620-1dbbb06eda45",
        "colab": {
          "base_uri": "https://localhost:8080/",
          "height": 51
        }
      },
      "cell_type": "code",
      "source": [
        "#The data generators are then setup with some data augmentation\n",
        "\n",
        "image_size = 224\n",
        "train_datagen = ImageDataGenerator(\n",
        "      rescale=1./255,\n",
        "      rotation_range=20,\n",
        "      width_shift_range=0.2,\n",
        "      height_shift_range=0.2,\n",
        "      horizontal_flip=True,\n",
        "      fill_mode='nearest')\n",
        " \n",
        "validation_datagen = ImageDataGenerator(rescale=1./255)\n",
        " \n",
        "# Setting batch sizes\n",
        "train_batchsize = 20\n",
        "val_batchsize = 2\n",
        " \n",
        "#Two separate generators for validation and training\n",
        "train_generator = train_datagen.flow_from_directory(\n",
        "        train_dir,\n",
        "        target_size=(image_size, image_size),\n",
        "        batch_size=train_batchsize,\n",
        "        class_mode='categorical',\n",
        "        shuffle = shuffle)\n",
        " \n",
        "validation_generator = validation_datagen.flow_from_directory(\n",
        "        validation_dir,\n",
        "        target_size=(image_size, image_size),\n",
        "        batch_size=val_batchsize,\n",
        "        class_mode='categorical',\n",
        "        shuffle=False)"
      ],
      "execution_count": 86,
      "outputs": [
        {
          "output_type": "stream",
          "text": [
            "Found 1088 images belonging to 17 classes.\n",
            "Found 272 images belonging to 17 classes.\n"
          ],
          "name": "stdout"
        }
      ]
    },
    {
      "metadata": {
        "id": "DhJTm3Ua0_s4",
        "colab_type": "code",
        "outputId": "7c03191f-e7dc-42f1-8016-007d5bd8fc25",
        "colab": {
          "base_uri": "https://localhost:8080/",
          "height": 1207
        }
      },
      "cell_type": "code",
      "source": [
        "# Compile the model\n",
        "model.compile(loss='categorical_crossentropy',\n",
        "              optimizer=optimizers.RMSprop(lr=0.00001),\n",
        "              metrics=['acc'])\n",
        "# Train the model\n",
        "history = model.fit_generator(\n",
        "      train_generator,\n",
        "      steps_per_epoch=train_generator.samples/train_generator.batch_size ,\n",
        "      epochs=35,\n",
        "      validation_data=validation_generator,\n",
        "      validation_steps=validation_generator.samples/validation_generator.batch_size,\n",
        "      verbose=1)"
      ],
      "execution_count": 89,
      "outputs": [
        {
          "output_type": "stream",
          "text": [
            "Epoch 1/35\n",
            "55/54 [==============================] - 34s 612ms/step - loss: 1.0073 - acc: 0.6868 - val_loss: 1.0869 - val_acc: 0.6618\n",
            "Epoch 2/35\n",
            "55/54 [==============================] - 28s 514ms/step - loss: 0.8442 - acc: 0.7477 - val_loss: 0.9696 - val_acc: 0.7096\n",
            "Epoch 3/35\n",
            "55/54 [==============================] - 28s 516ms/step - loss: 0.8126 - acc: 0.7473 - val_loss: 0.9443 - val_acc: 0.7169\n",
            "Epoch 4/35\n",
            "55/54 [==============================] - 29s 521ms/step - loss: 0.7003 - acc: 0.7773 - val_loss: 0.8947 - val_acc: 0.7132\n",
            "Epoch 5/35\n",
            "55/54 [==============================] - 28s 511ms/step - loss: 0.6242 - acc: 0.7918 - val_loss: 0.8810 - val_acc: 0.7206\n",
            "Epoch 6/35\n",
            "55/54 [==============================] - 28s 513ms/step - loss: 0.5958 - acc: 0.8264 - val_loss: 0.8046 - val_acc: 0.7316\n",
            "Epoch 7/35\n",
            "55/54 [==============================] - 28s 516ms/step - loss: 0.5322 - acc: 0.8272 - val_loss: 0.8883 - val_acc: 0.7390\n",
            "Epoch 8/35\n",
            "55/54 [==============================] - 28s 513ms/step - loss: 0.5080 - acc: 0.8355 - val_loss: 0.7850 - val_acc: 0.7537\n",
            "Epoch 9/35\n",
            "55/54 [==============================] - 28s 513ms/step - loss: 0.4938 - acc: 0.8632 - val_loss: 0.7416 - val_acc: 0.7684\n",
            "Epoch 10/35\n",
            "55/54 [==============================] - 28s 512ms/step - loss: 0.4556 - acc: 0.8605 - val_loss: 0.7846 - val_acc: 0.7500\n",
            "Epoch 11/35\n",
            "55/54 [==============================] - 28s 516ms/step - loss: 0.4083 - acc: 0.8745 - val_loss: 0.7330 - val_acc: 0.7647\n",
            "Epoch 12/35\n",
            "55/54 [==============================] - 28s 518ms/step - loss: 0.3664 - acc: 0.8778 - val_loss: 0.7652 - val_acc: 0.7500\n",
            "Epoch 13/35\n",
            "55/54 [==============================] - 28s 517ms/step - loss: 0.3545 - acc: 0.8882 - val_loss: 0.6940 - val_acc: 0.7684\n",
            "Epoch 14/35\n",
            "55/54 [==============================] - 28s 509ms/step - loss: 0.3122 - acc: 0.8936 - val_loss: 0.7531 - val_acc: 0.7831\n",
            "Epoch 15/35\n",
            "55/54 [==============================] - 28s 517ms/step - loss: 0.2961 - acc: 0.9036 - val_loss: 0.6968 - val_acc: 0.7904\n",
            "Epoch 16/35\n",
            "55/54 [==============================] - 28s 510ms/step - loss: 0.2946 - acc: 0.9027 - val_loss: 0.6505 - val_acc: 0.8015\n",
            "Epoch 17/35\n",
            "55/54 [==============================] - 28s 516ms/step - loss: 0.2933 - acc: 0.9054 - val_loss: 0.6352 - val_acc: 0.7941\n",
            "Epoch 18/35\n",
            "55/54 [==============================] - 28s 511ms/step - loss: 0.2269 - acc: 0.9232 - val_loss: 0.6587 - val_acc: 0.8088\n",
            "Epoch 19/35\n",
            "55/54 [==============================] - 28s 510ms/step - loss: 0.2478 - acc: 0.9245 - val_loss: 0.6714 - val_acc: 0.8088\n",
            "Epoch 20/35\n",
            "55/54 [==============================] - 28s 511ms/step - loss: 0.2264 - acc: 0.9328 - val_loss: 0.7145 - val_acc: 0.7941\n",
            "Epoch 21/35\n",
            "55/54 [==============================] - 28s 517ms/step - loss: 0.2130 - acc: 0.9300 - val_loss: 0.7534 - val_acc: 0.7904\n",
            "Epoch 22/35\n",
            "55/54 [==============================] - 28s 514ms/step - loss: 0.1880 - acc: 0.9350 - val_loss: 0.6096 - val_acc: 0.8382\n",
            "Epoch 23/35\n",
            "55/54 [==============================] - 29s 524ms/step - loss: 0.1900 - acc: 0.9373 - val_loss: 0.7167 - val_acc: 0.8015\n",
            "Epoch 24/35\n",
            "55/54 [==============================] - 29s 525ms/step - loss: 0.1860 - acc: 0.9409 - val_loss: 0.6813 - val_acc: 0.8088\n",
            "Epoch 25/35\n",
            "55/54 [==============================] - 29s 521ms/step - loss: 0.1645 - acc: 0.9473 - val_loss: 0.6292 - val_acc: 0.8272\n",
            "Epoch 26/35\n",
            "55/54 [==============================] - 29s 525ms/step - loss: 0.1481 - acc: 0.9491 - val_loss: 0.6120 - val_acc: 0.8199\n",
            "Epoch 27/35\n",
            "55/54 [==============================] - 29s 521ms/step - loss: 0.1416 - acc: 0.9545 - val_loss: 0.6085 - val_acc: 0.8603\n",
            "Epoch 28/35\n",
            "55/54 [==============================] - 28s 511ms/step - loss: 0.1452 - acc: 0.9582 - val_loss: 0.6843 - val_acc: 0.8382\n",
            "Epoch 29/35\n",
            "55/54 [==============================] - 28s 517ms/step - loss: 0.1534 - acc: 0.9482 - val_loss: 0.6000 - val_acc: 0.8382\n",
            "Epoch 30/35\n",
            "55/54 [==============================] - 28s 514ms/step - loss: 0.1438 - acc: 0.9609 - val_loss: 0.6027 - val_acc: 0.8676\n",
            "Epoch 31/35\n",
            "55/54 [==============================] - 28s 516ms/step - loss: 0.1197 - acc: 0.9532 - val_loss: 0.5997 - val_acc: 0.8603\n",
            "Epoch 32/35\n",
            "55/54 [==============================] - 28s 515ms/step - loss: 0.1128 - acc: 0.9627 - val_loss: 0.6360 - val_acc: 0.8566\n",
            "Epoch 33/35\n",
            "55/54 [==============================] - 28s 515ms/step - loss: 0.0963 - acc: 0.9691 - val_loss: 0.6566 - val_acc: 0.8456\n",
            "Epoch 34/35\n",
            "55/54 [==============================] - 29s 523ms/step - loss: 0.0966 - acc: 0.9682 - val_loss: 0.6029 - val_acc: 0.8640\n",
            "Epoch 35/35\n",
            "55/54 [==============================] - 28s 517ms/step - loss: 0.1102 - acc: 0.9632 - val_loss: 0.5980 - val_acc: 0.8529\n"
          ],
          "name": "stdout"
        }
      ]
    },
    {
      "metadata": {
        "id": "IN9qAdE5sDXi",
        "colab_type": "text"
      },
      "cell_type": "markdown",
      "source": [
        "Two types of activation functions were used, Adam and RMSProp. Both yielded similar results.  Adam however  yielded an accuracy closer to 91% for one special epoch"
      ]
    },
    {
      "metadata": {
        "id": "IdQ2_HaH1Xjh",
        "colab_type": "code",
        "outputId": "6519b218-dd98-47c7-f238-244a587caab3",
        "colab": {
          "base_uri": "https://localhost:8080/",
          "height": 707
        }
      },
      "cell_type": "code",
      "source": [
        "acc = history.history['acc']\n",
        "val_acc = history.history['val_acc']\n",
        "loss = history.history['loss']\n",
        "val_loss = history.history['val_loss']\n",
        " \n",
        "epochs = range(len(acc))\n",
        " \n",
        "plt.plot(epochs, acc, 'b', label='Training acc')\n",
        "plt.plot(epochs, val_acc, 'r', label='Validation acc')\n",
        "plt.title('Training and validation accuracy')\n",
        "plt.legend()\n",
        " \n",
        "plt.figure()\n",
        " \n",
        "plt.plot(epochs, loss, 'b', label='Training loss')\n",
        "plt.plot(epochs, val_loss, 'r', label='Validation loss')\n",
        "plt.title('Training and validation loss')\n",
        "plt.legend()\n",
        " \n",
        "plt.show()"
      ],
      "execution_count": 96,
      "outputs": [
        {
          "output_type": "display_data",
          "data": {
            "image/png": "[encoded data removed]",
            "text/plain": [
              "<matplotlib.figure.Figure at 0x7fe6005a0240>"
            ]
          },
          "metadata": {
            "tags": []
          }
        },
        {
          "output_type": "display_data",
          "data": {
            "image/png": "[encoded data removed]",
            "text/plain": [
              "<matplotlib.figure.Figure at 0x7fe5ffd2ed30>"
            ]
          },
          "metadata": {
            "tags": []
          }
        }
      ]
    },
    {
      "metadata": {
        "id": "WN_GgLG5QDH5",
        "colab_type": "code",
        "colab": {}
      },
      "cell_type": "code",
      "source": [
        "from keras import backend as K\n",
        "import tensorflow as tf\n",
        "\n",
        "top_values, top_indices = K.get_session().run(tf.nn.top_k(val_acc, k=5))"
      ],
      "execution_count": 0,
      "outputs": []
    },
    {
      "metadata": {
        "id": "7SWAEpETsrdp",
        "colab_type": "code",
        "colab": {
          "base_uri": "https://localhost:8080/",
          "height": 34
        },
        "outputId": "75ca37a0-a7bc-43e4-febb-a0c6fe0818e3"
      },
      "cell_type": "code",
      "source": [
        "print (top_values) #These are the top 5 accuracies obtained"
      ],
      "execution_count": 95,
      "outputs": [
        {
          "output_type": "stream",
          "text": [
            "[0.86764705 0.8639706  0.8639706  0.8639706  0.8602941 ]\n"
          ],
          "name": "stdout"
        }
      ]
    },
    {
      "metadata": {
        "id": "CofJVcTGs1EL",
        "colab_type": "code",
        "colab": {}
      },
      "cell_type": "code",
      "source": [
        "#The topmost accuracy obtained was 86.76%"
      ],
      "execution_count": 0,
      "outputs": []
    }
  ]
}